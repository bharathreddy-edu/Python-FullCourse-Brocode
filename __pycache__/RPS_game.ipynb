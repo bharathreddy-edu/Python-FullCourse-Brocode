{
 "cells": [
  {
   "cell_type": "code",
   "execution_count": 5,
   "metadata": {},
   "outputs": [],
   "source": [
    "import random\n",
    "\n",
    "#variable declaration\n",
    "choice_list = [\"rock\", \"paper\", \"scissor\"]\n",
    "playmore_list = [\"yes\", \"no\", \"n\", \"y\"]\n",
    "gamenumber = 0;\n",
    "\n"
   ]
  },
  {
   "cell_type": "code",
   "execution_count": 6,
   "metadata": {},
   "outputs": [],
   "source": [
    "\n",
    "#methods\n",
    "\n",
    "#Game introdution and rules\n",
    "def intro():\n",
    "    print(\"Welcome to Rock Paper Scrissors Game\")\n",
    "    print(\"Instructions: \\n\\t\\tEnter a choice from below: \\n\\t\\t\\t1. Rock\\n\\t\\t\\t2. Paper\\n\\t\\t\\t3. Scrissor \")\n",
    "    print(\"\\n\\t\\tRock wins against scissors; paper wins against rock; and scissors wins against paper.\")\n",
    "\n",
    "#computer choice using random\n",
    "def computer_input(choice_list):\n",
    "    comp_choice = random.choice(choice_list).lower()\n",
    "    print(f\"Computer\\tChoice\\tis:\\t{comp_choice}\")\n",
    "    return comp_choice\n",
    "\n",
    "#user input\n",
    "def call_userinput():\n",
    "    user_choice = input(\"Enter your choice \\(Rock/Paper/Scrissors\\)?: \").lower()\n",
    "    print(f\"User\\tChoice\\tis:\\t{user_choice}\")\n",
    "    return user_choice\n",
    "\n",
    "def play_the_game():\n",
    "    userchoice = call_userinput()\n",
    "    computerchoice = call_userinput()\n",
    "    if (userchoice == \"rock\"):\n",
    "        if(computerchoice == \"rock\"):\n",
    "            print(\"Game is tie\")\n",
    "        elif(computerchoice == \"paper\"):\n",
    "            print(\"User lost the game\")\n",
    "        else:\n",
    "            print(\"User won the game\")\n",
    "    \n",
    "    elif(userchoice == \"paper\"):\n",
    "        if(computerchoice == \"rock\"):\n",
    "            print(\"User won the game\")\n",
    "        elif(computerchoice == \"paper\"):\n",
    "            print(\"Game is tie\")\n",
    "        else:\n",
    "            print(\"Computer won the game\")\n",
    "    elif(userchoice == \"scissor\"):\n",
    "        if(computerchoice == \"rock\"):\n",
    "            print(\"Computer won the game\")\n",
    "        elif(computerchoice == \"paper\"):\n",
    "            print(\"User won the game\")\n",
    "        else:\n",
    "            print(\"Game is tie\")\n",
    "\n",
    "#Method to check if user is interesed in playinh more games\n",
    "def play_more_games():\n",
    "    playnewgame = input(\"Do you want to play the game - [Yes/Y or No/N]?: \").lower()\n",
    "    if(playnewgame not in playmore_list):\n",
    "        while(True):\n",
    "            print(\"Enter Correct Choice\")\n",
    "            playnewgame = input(\"Do you want to play the game - [Yes/Y or No/N]?: \").lower()\n",
    "            if(playnewgame in playmore_list):\n",
    "                break\n",
    "    else:\n",
    "        play_the_game()   \n",
    "    \n",
    "\n",
    "        \n",
    "                \n",
    "            \n",
    "    "
   ]
  },
  {
   "cell_type": "code",
   "execution_count": null,
   "metadata": {},
   "outputs": [],
   "source": [
    "while (True):\n",
    "    if(gamenumber == 0):\n",
    "        intro()\n",
    "        play_the_game()\n",
    "        gamenumber += 1\n",
    "    else:\n",
    "        play_more_games()            \n",
    "        "
   ]
  }
 ],
 "metadata": {
  "kernelspec": {
   "display_name": "base",
   "language": "python",
   "name": "python3"
  },
  "language_info": {
   "codemirror_mode": {
    "name": "ipython",
    "version": 3
   },
   "file_extension": ".py",
   "mimetype": "text/x-python",
   "name": "python",
   "nbconvert_exporter": "python",
   "pygments_lexer": "ipython3",
   "version": "3.11.7"
  }
 },
 "nbformat": 4,
 "nbformat_minor": 2
}
