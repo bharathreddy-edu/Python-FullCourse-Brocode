{
 "cells": [
  {
   "cell_type": "code",
   "execution_count": 1,
   "metadata": {},
   "outputs": [
    {
     "name": "stdout",
     "output_type": "stream",
     "text": [
      "The location exists!\n",
      "This is a dir\n"
     ]
    }
   ],
   "source": [
    "# file detection basics\n",
    "import os\n",
    "\n",
    "fpath = \"C:\\\\Users\\\\bhara\\\\OneDrive\\\\Desktop\\\\test\"\n",
    "fname = \"filetest.txt\"\n",
    "\n",
    "if os.path.exists(fpath):\n",
    "    print(\"The location exists!\")\n",
    "\n",
    "if os.path.isfile(fpath):\n",
    "    #+\"\\\\\"+fname\n",
    "    print(\"This is a file\")\n",
    "elif os.path.isdir(fpath):\n",
    "    print(\"This is a dir\")"
   ]
  },
  {
   "cell_type": "code",
   "execution_count": 5,
   "metadata": {},
   "outputs": [
    {
     "name": "stdout",
     "output_type": "stream",
     "text": [
      "afdfasfs\n",
      "d\n",
      "f\n",
      "afas\n",
      "f\n",
      "\n",
      "\n",
      "gagawg2\n",
      "\n",
      "adsf\n",
      "asf\n",
      "sf\n",
      "sadf\n",
      "\n",
      "True\n"
     ]
    }
   ],
   "source": [
    "# File read\n",
    "with open(fpath+\"\\\\\"+fname) as file:\n",
    "    print(file.read())\n",
    "    \n",
    "print(file.closed)"
   ]
  },
  {
   "cell_type": "code",
   "execution_count": 16,
   "metadata": {},
   "outputs": [
    {
     "data": {
      "text/plain": [
       "'C:\\\\Users\\\\bhara\\\\OneDrive\\\\Desktop\\\\test\\\\newfolder_1\\\\justcopyfile1.txt'"
      ]
     },
     "execution_count": 16,
     "metadata": {},
     "output_type": "execute_result"
    }
   ],
   "source": [
    "#File Write/append along with shutil copy2 method.\n",
    "import os, shutil\n",
    "fpath = \"C:\\\\Users\\\\bhara\\\\OneDrive\\\\Desktop\\\\test\"\n",
    "text = \"yoooooooooo i have create this fiele\"\n",
    "text2 = \"The script editor allows you to write and edit your own Household Routines with Google Home.\"\n",
    "with open(fpath+\"\\\\\"+'test_shutil.txt', 'a') as file:\n",
    "    file.write(text2)\n",
    "    file.close()\n",
    "#os.mkdir(fpath+'\\\\newfolder_1\\\\')\n",
    "srcpath = fpath+\"\\\\\"+'test_shutil.txt'\n",
    "newpath = fpath+'\\\\newfolder_1\\\\'+'justcopyfile1.txt'\n",
    "shutil.copy2(srcpath,newpath)\n"
   ]
  },
  {
   "cell_type": "code",
   "execution_count": 11,
   "metadata": {},
   "outputs": [
    {
     "name": "stdout",
     "output_type": "stream",
     "text": [
      "C:\\Users\\bhara\\OneDrive\\Desktop\\test\\test_shutil.txt was not found\n"
     ]
    }
   ],
   "source": [
    "# Moving files\n",
    "\n",
    "import os\n",
    "src_path = \"C:\\\\Users\\\\bhara\\\\OneDrive\\\\Desktop\\\\test\\\\test_shutil.txt\"\n",
    "dest_path = 'C:\\\\Users\\\\bhara\\\\OneDrive\\\\Desktop\\\\test_shutil.txt'\n",
    "\n",
    "\n",
    "try:\n",
    "    if (os.path.exists(dest_path)):\n",
    "        print(\"File Already Exists\")       \n",
    "    else:\n",
    "        os.replace(src_path, dest_path)\n",
    "except FileNotFoundError:\n",
    "    print(src_path+\" was not found\")"
   ]
  },
  {
   "cell_type": "code",
   "execution_count": 25,
   "metadata": {},
   "outputs": [
    {
     "name": "stdout",
     "output_type": "stream",
     "text": [
      "File is not present in the dir\n"
     ]
    }
   ],
   "source": [
    "# remove the file\n",
    "import os, shutil\n",
    "dest_path = 'C:\\\\Users\\\\bhara\\\\OneDrive\\\\Desktop\\\\test\\\\newfolder_1\\\\justcopyfile1.txt'\n",
    "\n",
    "try:\n",
    "    #os.remove(dest_path) # Delete a file\n",
    "    #os.rmdir(dest_path) # delete an empty directory\n",
    "    shutil.rmtree('C:\\\\Users\\\\bhara\\\\OneDrive\\\\Desktop\\\\test\\\\newfolder_1') # deletes everything in directory including the directory itself\n",
    "except FileNotFoundError:\n",
    "    print(\"File is not present in the dir\")\n",
    "except PermissionError:\n",
    "    print(\"You dont have permission to delete the folder\")\n",
    "except OSError:\n",
    "    print(\"You can't delete that using that function\")\n",
    "else:\n",
    "    print(f\"{dest_path} was deleted\")"
   ]
  }
 ],
 "metadata": {
  "kernelspec": {
   "display_name": "base",
   "language": "python",
   "name": "python3"
  },
  "language_info": {
   "codemirror_mode": {
    "name": "ipython",
    "version": 3
   },
   "file_extension": ".py",
   "mimetype": "text/x-python",
   "name": "python",
   "nbconvert_exporter": "python",
   "pygments_lexer": "ipython3",
   "version": "3.11.7"
  }
 },
 "nbformat": 4,
 "nbformat_minor": 2
}
