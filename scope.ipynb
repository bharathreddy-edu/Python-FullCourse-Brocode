{
 "cells": [
  {
   "cell_type": "code",
   "execution_count": 47,
   "metadata": {},
   "outputs": [
    {
     "name": "stdout",
     "output_type": "stream",
     "text": [
      "calling funtion named localscope()\n",
      "This is based on the local scope .....name = Reddy\n",
      "Error Name: NameError \n",
      "cannot access free variable 'another_name' where it is not associated with a value in enclosing scope\n",
      "This is based on the global scope .....name = Bharath\n",
      "This is based on the local scope .....name = Hari\n",
      "After updating the global variable\n",
      "This is based on the global scope .....name = Hari\n"
     ]
    }
   ],
   "source": [
    "# scope Variable\n",
    "#python takes lEGB order\n",
    "# L --> Local\n",
    "# E --> Enclosing\n",
    "# G ---> Global\n",
    "# B --> Built-in\n",
    "name = \"Bharath\"\n",
    "\n",
    "def localscope():\n",
    "    name = \"Reddy\"\n",
    "    #another_name = \"Hari\"\n",
    "    print(\"This is based on the local scope .....name = {0}\".format(name))\n",
    "    \n",
    "    try:\n",
    "        def enclosingfun():\n",
    "            print(\"This is based on the Enclosing scope .....name = {0}\".format(another_name)) \n",
    "        \n",
    "        \n",
    "        enclosingfun()\n",
    "        another_name = \"HariSiv\"\n",
    "    except:\n",
    "        print(\"Error Name: NameError \")\n",
    "        print(\"cannot access free variable 'another_name' where it is not associated with a value in enclosing scope\")\n",
    "print(\"calling funtion named localscope()\")\n",
    "localscope()\n",
    "print(\"This is based on the global scope .....name = {0}\".format(name))\n",
    "\n",
    "def overridinglocalscope():\n",
    "    global name\n",
    "    name = \"Hari\"\n",
    "    print(\"This is based on the local scope .....name = {0}\".format(name))\n",
    "    \n",
    "\n",
    "overridinglocalscope()\n",
    "print(\"After updating the global variable\")\n",
    "print(\"This is based on the global scope .....name = {0}\".format(name))\n"
   ]
  }
 ],
 "metadata": {
  "kernelspec": {
   "display_name": "base",
   "language": "python",
   "name": "python3"
  },
  "language_info": {
   "codemirror_mode": {
    "name": "ipython",
    "version": 3
   },
   "file_extension": ".py",
   "mimetype": "text/x-python",
   "name": "python",
   "nbconvert_exporter": "python",
   "pygments_lexer": "ipython3",
   "version": "3.11.7"
  }
 },
 "nbformat": 4,
 "nbformat_minor": 2
}
