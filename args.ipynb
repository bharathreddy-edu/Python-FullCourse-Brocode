{
 "cells": [
  {
   "cell_type": "code",
   "execution_count": 9,
   "metadata": {},
   "outputs": [
    {
     "name": "stdout",
     "output_type": "stream",
     "text": [
      "sum of numbers is  55\n",
      "sum of numbers is  156\n",
      "Hello Bharath Roopireddy\n",
      "Hello MR.Bharath Roopireddy\n"
     ]
    }
   ],
   "source": [
    "# args and kwargs\n",
    "\n",
    "#args --> arguments [most important is not the name but * (astric in argument)]\n",
    "def addnumbers_usingargs(*args):\n",
    "    sum = 0\n",
    "    for x in args:\n",
    "        sum += x\n",
    "    print(\"sum of numbers is \",sum)\n",
    "\n",
    "addnumbers_usingargs(1,12,2,13,1,1,11,1,0,4,8,1)\n",
    "\n",
    "def addnumbers_usingargs(*tupleargs):\n",
    "    sum = 0\n",
    "    for x in tupleargs:\n",
    "        sum += x\n",
    "    print(\"sum of numbers is \",sum)\n",
    "\n",
    "addnumbers_usingargs(12,31,3,1,55,41,0,4,8,1)\n",
    "\n",
    "\n",
    "# kwargs ----> keyword arguments [most important is not the name but ** (double astric in argument)]\n",
    "def nameprint_usingkwargs(**kwargs):\n",
    "    print(\"Hello \"+kwargs[\"fname\"]+\" \"+kwargs[\"lname\"])\n",
    "\n",
    "nameprint_usingkwargs(fname=\"Bharath\", mname=\"\", lname=\"Roopireddy\")\n",
    "\n",
    "def nameprint_usingkwargs2(**keywordargsexample):\n",
    "    print(\"Hello \"+keywordargsexample[\"title\"]+keywordargsexample[\"fname\"]+\" \"+keywordargsexample[\"lname\"])\n",
    "\n",
    "nameprint_usingkwargs2(title=\"MR.\", fname=\"Bharath\", mname=\"\", lname=\"Roopireddy\")\n",
    "\n",
    "\n"
   ]
  }
 ],
 "metadata": {
  "kernelspec": {
   "display_name": "base",
   "language": "python",
   "name": "python3"
  },
  "language_info": {
   "codemirror_mode": {
    "name": "ipython",
    "version": 3
   },
   "file_extension": ".py",
   "mimetype": "text/x-python",
   "name": "python",
   "nbconvert_exporter": "python",
   "pygments_lexer": "ipython3",
   "version": "3.11.7"
  }
 },
 "nbformat": 4,
 "nbformat_minor": 2
}
