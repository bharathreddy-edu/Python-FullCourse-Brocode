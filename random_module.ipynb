{
 "cells": [
  {
   "cell_type": "code",
   "execution_count": 16,
   "metadata": {},
   "outputs": [
    {
     "name": "stdout",
     "output_type": "stream",
     "text": [
      "Generate random number between a number as integer\n",
      "4\n",
      "Generate random number bas floating between 0 and 1\n",
      "0.9750237800830752\n",
      "Generate random name from given list\n",
      "Saraswathi\n",
      "Shuffle list uisng random module\n",
      "shuffle 1 time --> ['abbas', 1, 'harry', '#', 'Kaden', 'A', '%']\n",
      "shuffle 2nd time --> ['Kaden', 'harry', 1, '#', 'A', '%', 'abbas']\n",
      "shuffle 3rd  time --> [1, 'A', 'Kaden', 'abbas', 'harry', '%', '#']\n",
      "shuffle 4th time --> ['A', '#', 'Kaden', 'abbas', 'harry', '%', 1]\n"
     ]
    }
   ],
   "source": [
    "# Random modules\n",
    "import random\n",
    "\n",
    "# Generate random number between a number\n",
    "print(\"Generate random number between a number as integer\")\n",
    "print(random.randint(0,9))\n",
    "\n",
    "print(\"Generate random number bas floating between 0 and 1\")\n",
    "print(random.random())\n",
    "\n",
    "print(\"Generate random name from given list\")\n",
    "mynameslist = ['Shiv', 'Ram', \"hHanuman\",'Bhramma', 'Laxmi', 'Parvathi', 'Saraswathi']\n",
    "print(random.choice(mynameslist))\n",
    "\n",
    "print(\"Shuffle list uisng random module\")\n",
    "shuf_my_list = [\"A\", \"harry\", \"Kaden\", 1, \"#\", \"abbas\", \"%\"]\n",
    "random.shuffle(shuf_my_list)\n",
    "print(\"shuffle 1 time -->\",shuf_my_list)\n",
    "random.shuffle(shuf_my_list)\n",
    "print(\"shuffle 2nd time -->\",shuf_my_list)\n",
    "random.shuffle(shuf_my_list)\n",
    "print(\"shuffle 3rd  time -->\",shuf_my_list)\n",
    "random.shuffle(shuf_my_list)\n",
    "print(\"shuffle 4th time -->\",shuf_my_list)\n"
   ]
  }
 ],
 "metadata": {
  "kernelspec": {
   "display_name": "base",
   "language": "python",
   "name": "python3"
  },
  "language_info": {
   "codemirror_mode": {
    "name": "ipython",
    "version": 3
   },
   "file_extension": ".py",
   "mimetype": "text/x-python",
   "name": "python",
   "nbconvert_exporter": "python",
   "pygments_lexer": "ipython3",
   "version": "3.11.7"
  }
 },
 "nbformat": 4,
 "nbformat_minor": 2
}
