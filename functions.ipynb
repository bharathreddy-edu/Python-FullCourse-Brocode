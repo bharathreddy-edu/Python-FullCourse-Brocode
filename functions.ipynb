{
 "cells": [
  {
   "cell_type": "code",
   "execution_count": 11,
   "metadata": {},
   "outputs": [
    {
     "name": "stdout",
     "output_type": "stream",
     "text": [
      "Positional Args Demo\n",
      "First Name\t=\tBharath\n",
      "Last Name\t=\tRoopireddy\n",
      "\n",
      "First Name\t=\tRoopireddy\n",
      "Last Name\t=\tBharath\n",
      "\n",
      "\n",
      "\n",
      "\n",
      "Keyword Args Demo\n",
      "First Name\t=\tBharath\n",
      "Last Name\t=\tRoopireddy\n"
     ]
    }
   ],
   "source": [
    "# Functions, return statements, keyword arguments/positional arguments\n",
    "\n",
    "\n",
    "def funcall():\n",
    "    name = input(\"Whats your name ? \")\n",
    "    greeting(name)\n",
    "    print(f\"How can i assit you {name}?\")\n",
    "def greeting(arg_name):\n",
    "    print(f\"Hello {arg_name}!!! \\nhow are you doing?\")\n",
    "\n",
    "def multiply_twoNumbers(num1, num2):\n",
    "    return num1 * num2\n",
    "\n",
    "# funcall()\n",
    "# print(f\"Multipicatio of 10 and 5 is --> {multiply_twoNumbers(10,5)}\")\n",
    "\n",
    "\n",
    "def argcalldemo(fname,lname):\n",
    "    print(f\"First Name\\t=\\t{fname}\\nLast Name\\t=\\t{lname}\")\n",
    "\n",
    "print(\"Positional Args Demo\")\n",
    "argcalldemo(\"Bharath\",\"Roopireddy\")\n",
    "print()\n",
    "argcalldemo(\"Roopireddy\", \"Bharath\")\n",
    "\n",
    "print(\"\\n\\n\\n\")\n",
    "print(\"Keyword Args Demo\")\n",
    "argcalldemo(lname=\"Roopireddy\",fname=\"Bharath\")"
   ]
  },
  {
   "cell_type": "code",
   "execution_count": 12,
   "metadata": {},
   "outputs": [
    {
     "name": "stdout",
     "output_type": "stream",
     "text": [
      "6\n"
     ]
    }
   ],
   "source": [
    "# Nested Function calls\n",
    "\n",
    "print(round(abs(float(input(\"Enter a positive number: \")))))"
   ]
  }
 ],
 "metadata": {
  "kernelspec": {
   "display_name": "base",
   "language": "python",
   "name": "python3"
  },
  "language_info": {
   "codemirror_mode": {
    "name": "ipython",
    "version": 3
   },
   "file_extension": ".py",
   "mimetype": "text/x-python",
   "name": "python",
   "nbconvert_exporter": "python",
   "pygments_lexer": "ipython3",
   "version": "3.11.7"
  }
 },
 "nbformat": 4,
 "nbformat_minor": 2
}
