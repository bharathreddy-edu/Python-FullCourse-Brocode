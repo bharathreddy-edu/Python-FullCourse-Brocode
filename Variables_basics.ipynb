{
 "cells": [
  {
   "cell_type": "code",
   "execution_count": null,
   "metadata": {},
   "outputs": [],
   "source": [
    "# Variables and their use"
   ]
  },
  {
   "cell_type": "code",
   "execution_count": 2,
   "metadata": {},
   "outputs": [
    {
     "name": "stdout",
     "output_type": "stream",
     "text": [
      "Bharath Roopireddy\n"
     ]
    }
   ],
   "source": [
    "first_name = \"Bharath\"\n",
    "last_name = \"Roopireddy\"\n",
    "\n",
    "print(first_name + \" \" + last_name)"
   ]
  },
  {
   "cell_type": "code",
   "execution_count": 8,
   "metadata": {},
   "outputs": [
    {
     "name": "stdout",
     "output_type": "stream",
     "text": [
      "My age is 21\n",
      "age data type is\n",
      "<class 'int'>\n"
     ]
    }
   ],
   "source": [
    "# typecasting\n",
    "age = 21\n",
    "print(\"My age is \"+str(age))\n",
    "\n",
    "#if you want to know what is the type of the variable.\n",
    "print(\"age data type is\") \n",
    "print(type(age))"
   ]
  },
  {
   "cell_type": "code",
   "execution_count": 10,
   "metadata": {},
   "outputs": [
    {
     "name": "stdout",
     "output_type": "stream",
     "text": [
      "Hello\n",
      "21\n",
      "True\n"
     ]
    }
   ],
   "source": [
    "# multiple assignments\n",
    "\n",
    "#Regular Assignment\n",
    "# name = \"hello\"\n",
    "# age = 21\n",
    "# attractive = True\n",
    "\n",
    "name ,age ,attractive = \"Hello\", 21, True\n",
    "\n",
    "print(name)\n",
    "print(age)\n",
    "print(attractive)"
   ]
  },
  {
   "cell_type": "code",
   "execution_count": 20,
   "metadata": {},
   "outputs": [
    {
     "name": "stdout",
     "output_type": "stream",
     "text": [
      "4\n",
      "2\n",
      "Test\n",
      "TEST\n",
      "test\n",
      "besb\n",
      " testtesttest\n"
     ]
    }
   ],
   "source": [
    "\n",
    "name = \"test\"\n",
    "print(len(name))\n",
    "print(name.find(\"s\"))\n",
    "print(name.capitalize())\n",
    "print(name.upper())\n",
    "print(name.lower())\n",
    "print(name.replace(\"t\",\"b\"))\n",
    "print(name*3)"
   ]
  },
  {
   "cell_type": "code",
   "execution_count": 33,
   "metadata": {},
   "outputs": [
    {
     "name": "stdout",
     "output_type": "stream",
     "text": [
      "1\n",
      "2\n",
      "test\n"
     ]
    }
   ],
   "source": [
    "# Type casting\n",
    "x = 1\n",
    "y = 2.3\n",
    "z = 'test'\n",
    "\n",
    "print(x)\n",
    "print(int(y))\n",
    "print(z)\n",
    "#print(z*3)\n",
    "\n",
    "# t = int(z)\n",
    "# print(t * 3)"
   ]
  },
  {
   "cell_type": "code",
   "execution_count": 43,
   "metadata": {},
   "outputs": [
    {
     "name": "stdout",
     "output_type": "stream",
     "text": [
      "B\n",
      "Bharath\n",
      "Roopireddy\n",
      "BaahRoied\n",
      "ydderipooR htarahB\n"
     ]
    }
   ],
   "source": [
    "# Slicing Strings\n",
    "\n",
    "name = \"Bharath Roopireddy\"\n",
    "print(name[0])\n",
    "\n",
    "#first_name = name[0:7]\n",
    "first_name = name [:7]\n",
    "print(first_name)\n",
    "\n",
    "last_name = name[8:]\n",
    "print(last_name)\n",
    "\n",
    "\n",
    "funky_name = name[0::2]\n",
    "print(funky_name)\n",
    "\n",
    "resverse_name = name [::-1]\n",
    "print(resverse_name)\n",
    "\n",
    "\n",
    "website = \"http://google.com\""
   ]
  },
  {
   "cell_type": "markdown",
   "metadata": {},
   "source": []
  }
 ],
 "metadata": {
  "kernelspec": {
   "display_name": "base",
   "language": "python",
   "name": "python3"
  },
  "language_info": {
   "codemirror_mode": {
    "name": "ipython",
    "version": 3
   },
   "file_extension": ".py",
   "mimetype": "text/x-python",
   "name": "python",
   "nbconvert_exporter": "python",
   "pygments_lexer": "ipython3",
   "version": "3.11.7"
  }
 },
 "nbformat": 4,
 "nbformat_minor": 2
}
