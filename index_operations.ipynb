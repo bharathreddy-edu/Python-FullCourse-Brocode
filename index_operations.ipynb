{
 "cells": [
  {
   "cell_type": "code",
   "execution_count": 17,
   "metadata": {},
   "outputs": [
    {
     "name": "stdout",
     "output_type": "stream",
     "text": [
      "Bharath roopireddy\n",
      "BHARATH\n",
      "ROOPIREDDY\n",
      "print in reverse\n",
      "ydderipoor htarahB\n",
      "Bharath roopireddy\n"
     ]
    }
   ],
   "source": [
    "#index operator\n",
    "\n",
    "\n",
    "name = \"bharath Roopireddy\"\n",
    "\n",
    "if(name[0].islower()):\n",
    "    name = name.capitalize()\n",
    "    \n",
    "print(name)\n",
    "first_name = name[:7].upper()\n",
    "print(first_name)\n",
    "\n",
    "last_name = name[8:].upper()\n",
    "print(last_name)\n",
    "\n",
    "print(\"print in reverse\")\n",
    "print(name[::-1])\n",
    "\n",
    "\n"
   ]
  }
 ],
 "metadata": {
  "kernelspec": {
   "display_name": "base",
   "language": "python",
   "name": "python3"
  },
  "language_info": {
   "codemirror_mode": {
    "name": "ipython",
    "version": 3
   },
   "file_extension": ".py",
   "mimetype": "text/x-python",
   "name": "python",
   "nbconvert_exporter": "python",
   "pygments_lexer": "ipython3",
   "version": "3.11.7"
  }
 },
 "nbformat": 4,
 "nbformat_minor": 2
}
