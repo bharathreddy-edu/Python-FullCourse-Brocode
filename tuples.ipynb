{
 "cells": [
  {
   "cell_type": "code",
   "execution_count": 6,
   "metadata": {},
   "outputs": [
    {
     "name": "stdout",
     "output_type": "stream",
     "text": [
      "2\n",
      "1\n",
      "0\n",
      "5\n",
      "Ram\tShiv\tHari\tKrish\tBhramma\tDurga\tLaxmi\tSaraswathi\tRam\t\n",
      "Ram is above tuple\n"
     ]
    }
   ],
   "source": [
    "# tuples --> ORDERED and UNCHANGABLE\n",
    "\n",
    "student = (\"Ram\", \"Shiv\", \"Hari\", \"Krish\", \"Bhramma\", \"Durga\", \"Laxmi\", \"Saraswathi\", \"Ram\")\n",
    "\n",
    "# Duplicates are allowed\n",
    "print(student.count(\"Ram\"))\n",
    "print(student.count(\"Laxmi\"))\n",
    "\n",
    "#index, first found\n",
    "print(student.index(\"Ram\"))\n",
    "print(student.index(\"Durga\"))\n",
    "\n",
    "for x in student:\n",
    "    print(x, end=\"\\t\")\n",
    "print()\n",
    "if \"Ram\" in student:\n",
    "    print(\"Ram is above tuple\")\n"
   ]
  }
 ],
 "metadata": {
  "kernelspec": {
   "display_name": "base",
   "language": "python",
   "name": "python3"
  },
  "language_info": {
   "codemirror_mode": {
    "name": "ipython",
    "version": 3
   },
   "file_extension": ".py",
   "mimetype": "text/x-python",
   "name": "python",
   "nbconvert_exporter": "python",
   "pygments_lexer": "ipython3",
   "version": "3.11.7"
  }
 },
 "nbformat": 4,
 "nbformat_minor": 2
}
