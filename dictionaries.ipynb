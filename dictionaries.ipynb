{
 "cells": [
  {
   "cell_type": "code",
   "execution_count": 16,
   "metadata": {},
   "outputs": [
    {
     "name": "stdout",
     "output_type": "stream",
     "text": [
      "New_Delhi\n",
      "Washington_DC\n",
      "dict_keys(['USA', 'INDIA', 'China', 'RUSSIA'])\n",
      "dict_values(['Washington_DC', 'New_Delhi', 'Beijing', 'Moscow'])\n",
      "dict_items([('USA', 'Washington_DC'), ('INDIA', 'New_Delhi'), ('China', 'Beijing'), ('RUSSIA', 'Moscow')])\n",
      "dict_items([('USA', 'Washington_DC'), ('INDIA', 'New_Delhi'), ('China', 'Beijing'), ('RUSSIA', 'Moscow'), ('GERMANY', 'Berlin')])\n",
      "dict_items([('USA', 'Los Angeles'), ('INDIA', 'New_Delhi'), ('China', 'Beijing'), ('RUSSIA', 'Moscow'), ('GERMANY', 'Berlin')])\n",
      "dict_items([('USA', 'Los Angeles'), ('INDIA', 'New_Delhi'), ('China', 'Beijing'), ('RUSSIA', 'Moscow'), ('GERMANY', 'Berlin'), ('usa', 'WASHINGTON_DC')])\n",
      "dict_items([('USA', 'Los Angeles'), ('INDIA', 'New_Delhi'), ('RUSSIA', 'Moscow'), ('GERMANY', 'Berlin'), ('usa', 'WASHINGTON_DC')])\n",
      "dict_items([])\n"
     ]
    }
   ],
   "source": [
    "#dictionaries --->  UNORDERED  and CHANGEABLE and unique keys\n",
    "\n",
    "capitals={'USA':'Washington_DC','INDIA':'New_Delhi','China':'Beijing','RUSSIA':'Moscow'}\n",
    "\n",
    "print(capitals['INDIA'])\n",
    "print(capitals.get('USA'))\n",
    "print(capitals.keys())\n",
    "print(capitals.values())\n",
    "print(capitals.items())\n",
    "\n",
    "\n",
    "#updtae method to add new key value and change existing\n",
    "capitals.update({'GERMANY':'Berlin'})\n",
    "print(capitals.items())\n",
    "\n",
    "capitals.update({'USA':'Los Angeles'})\n",
    "print(capitals.items())\n",
    "\n",
    "#case sensitive\n",
    "capitals.update({'usa':'WASHINGTON_DC'})\n",
    "print(capitals.items())\n",
    "\n",
    "capitals.pop('China')\n",
    "print(capitals.items())\n",
    "#error occurs if the china is not in exact same format\n",
    "\n",
    "capitals.clear()\n",
    "print(capitals.items())"
   ]
  }
 ],
 "metadata": {
  "kernelspec": {
   "display_name": "base",
   "language": "python",
   "name": "python3"
  },
  "language_info": {
   "codemirror_mode": {
    "name": "ipython",
    "version": 3
   },
   "file_extension": ".py",
   "mimetype": "text/x-python",
   "name": "python",
   "nbconvert_exporter": "python",
   "pygments_lexer": "ipython3",
   "version": "3.11.7"
  }
 },
 "nbformat": 4,
 "nbformat_minor": 2
}
