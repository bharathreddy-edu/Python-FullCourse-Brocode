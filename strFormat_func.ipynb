{
 "cells": [
  {
   "cell_type": "code",
   "execution_count": 12,
   "metadata": {},
   "outputs": [
    {
     "name": "stdout",
     "output_type": "stream",
     "text": [
      "dog barks and it sounds like uff uff\n",
      "dog barks and it sounds like uff uff\n",
      "cow makes sound like moo moo\n",
      "uff uff makes sound like uff uff\n",
      "uff uff barks and it sounds like dog\n",
      "uff uff makes sound like uff uff\n"
     ]
    }
   ],
   "source": [
    "# Format methog in string is optional and we can use it in print\n",
    "\n",
    "num = 1000\n",
    "animal = \"dog\"\n",
    "sound = \"uff uff\"\n",
    "\n",
    "print(\"{} barks and it sounds like {}\".format(animal,sound))\n",
    "print(\"{0} barks and it sounds like {1}\".format(animal,sound))\n",
    "print(\"{animal} makes sound like {sound}\".format(animal=\"cow\",sound=\"moo moo\"))\n",
    "print(\"{1} makes sound like {1}\".format(animal,sound))\n",
    "print(\"{1} barks and it sounds like {0}\".format(animal,sound))\n",
    "print(\"{1} makes sound like {1}\".format(animal,sound))\n"
   ]
  },
  {
   "cell_type": "code",
   "execution_count": 14,
   "metadata": {},
   "outputs": [
    {
     "name": "stdout",
     "output_type": "stream",
     "text": [
      "Showing padding using format\n",
      "Hey my name is : Bharath.Nice to see you\n",
      "Hey my name is : Bharath   . Nice to see you \n",
      "Hey my name is :    Bharath.Nice to see you \n",
      "Hey my name is :  Bharath  .Nice to see you \n"
     ]
    }
   ],
   "source": [
    "# padding\n",
    "\n",
    "name = \"Bharath\"\n",
    "\n",
    "print(\"Showing padding using format\")\n",
    "print(\"Hey my name is : {}.Nice to see you\".format(name))\n",
    "print(\"Hey my name is : {:10}. Nice to see you \".format(name))\n",
    "print(\"Hey my name is : {:>10}.Nice to see you \".format(name))\n",
    "print(\"Hey my name is : {:^10}.Nice to see you \".format(name))"
   ]
  },
  {
   "cell_type": "code",
   "execution_count": 18,
   "metadata": {},
   "outputs": [
    {
     "name": "stdout",
     "output_type": "stream",
     "text": [
      "The number is : 24.13\n",
      "The number is : 1,214\n",
      "The number in binary : 10010111110\n",
      "The number in octa : 2276\n",
      "The number in hexa : 4be\n",
      "The number in sceintifi notation : 1.214000e+03\n"
     ]
    }
   ],
   "source": [
    "# Numbar formatting\n",
    "\n",
    "num = 24.131321\n",
    "\n",
    "print(\"The number is : {:.2f}\".format(num))\n",
    "\n",
    "number = 1214\n",
    "print(\"The number is : {:,}\".format(number))\n",
    "print(\"The number in binary : {:b}\".format(number))\n",
    "print(\"The number in octa : {:o}\".format(number))\n",
    "print(\"The number in hexa : {:x}\".format(number))\n",
    "print(\"The number in sceintifi notation : {:e}\".format(number))\n",
    "\n",
    "\n",
    "\n"
   ]
  }
 ],
 "metadata": {
  "kernelspec": {
   "display_name": "base",
   "language": "python",
   "name": "python3"
  },
  "language_info": {
   "codemirror_mode": {
    "name": "ipython",
    "version": 3
   },
   "file_extension": ".py",
   "mimetype": "text/x-python",
   "name": "python",
   "nbconvert_exporter": "python",
   "pygments_lexer": "ipython3",
   "version": "3.11.7"
  }
 },
 "nbformat": 4,
 "nbformat_minor": 2
}
