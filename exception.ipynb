{
 "cells": [
  {
   "cell_type": "code",
   "execution_count": 11,
   "metadata": {},
   "outputs": [],
   "source": [
    "#exceptions\n",
    "\n",
    "num1 = 5\n",
    "num2 = 0\n",
    "name1 = \"hurray\"\n",
    "\n"
   ]
  },
  {
   "cell_type": "code",
   "execution_count": null,
   "metadata": {},
   "outputs": [],
   "source": [
    "print(\"Differnet type of exceptions\")"
   ]
  },
  {
   "cell_type": "code",
   "execution_count": 8,
   "metadata": {},
   "outputs": [
    {
     "name": "stdout",
     "output_type": "stream",
     "text": [
      "Error Name: ZeroDivisionError\n",
      "you cant divide a number by 0\n"
     ]
    }
   ],
   "source": [
    "\n",
    "try:\n",
    "    print(num1/num2)\n",
    "\n",
    "except ZeroDivisionError:\n",
    "    print(\"Error Name: ZeroDivisionError\\nyou cant divide a number by 0\")\n",
    "\n"
   ]
  },
  {
   "cell_type": "code",
   "execution_count": 13,
   "metadata": {},
   "outputs": [
    {
     "name": "stdout",
     "output_type": "stream",
     "text": [
      "You cnat have string in the input\n"
     ]
    }
   ],
   "source": [
    "try:\n",
    "    print( (num1 / name1) )\n",
    "\n",
    "except ValueError:\n",
    "    print(\"Error Name: ZeroDivisionError\\nyou cant divide a number by 0\")\n",
    "\n",
    "except Exception:\n",
    "    print(\"You can't have string in the input\")"
   ]
  },
  {
   "cell_type": "code",
   "execution_count": 6,
   "metadata": {},
   "outputs": [
    {
     "name": "stdout",
     "output_type": "stream",
     "text": [
      "Caught Genereice exception\n",
      "Exception:\n",
      "invalid literal for int() with base 10: 'sfa'\n",
      " No matter what finally block got executed\n"
     ]
    }
   ],
   "source": [
    "try:\n",
    "    num1 = int(input(\" Enter the First number?: \"))\n",
    "    num2 = int(input(\" Enter the second number?: \"))\n",
    "    result = num1 / num2\n",
    "\n",
    "except ZeroDivisionError as e:\n",
    "    print(\"Error Name: ZeroDivisionError\\nyou cant divide a number by 0\")\n",
    "    print(\"Exception:\")\n",
    "    print(e)\n",
    "except Exception as e:\n",
    "    print(\"Caught Genereice exception\")\n",
    "    print(\"Exception:\")\n",
    "    print(e)\n",
    "\n",
    "else:\n",
    "    print(\"Answer for {} / {} ---> \".format(num1, num2),end=\" \")\n",
    "    print(result)\n",
    "\n",
    "finally:\n",
    "    print(\" No matter what finally block got executed\")"
   ]
  }
 ],
 "metadata": {
  "kernelspec": {
   "display_name": "base",
   "language": "python",
   "name": "python3"
  },
  "language_info": {
   "codemirror_mode": {
    "name": "ipython",
    "version": 3
   },
   "file_extension": ".py",
   "mimetype": "text/x-python",
   "name": "python",
   "nbconvert_exporter": "python",
   "pygments_lexer": "ipython3",
   "version": "3.11.7"
  }
 },
 "nbformat": 4,
 "nbformat_minor": 2
}
