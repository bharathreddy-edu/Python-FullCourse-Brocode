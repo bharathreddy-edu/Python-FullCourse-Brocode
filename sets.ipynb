{
 "cells": [
  {
   "cell_type": "code",
   "execution_count": 44,
   "metadata": {},
   "outputs": [
    {
     "name": "stdout",
     "output_type": "stream",
     "text": [
      "8\n",
      "mint\tspinach\tthotakura\ticeburg\tlettuce\tkale\tgongura\tsukkakura\t\n",
      "{'mint', 'cilantro', 'spinach', 'thotakura', 'iceburg', 'lettuce', 'kale', 'gongura', 'sukkakura'}\n",
      "{'mint', 'cilantro', 'spinach', 'red_onion', 'thotakura', 'iceburg', 'lettuce', 'kale', 'gongura', 'sukkakura'}\n",
      "mint\tcilantro\tspinach\tred_onion\tthotakura\ticeburg\tmushrooms\tlettuce\tkale\tsweetpotatoes\tgongura\tsukkakura\t\n",
      "----------------- difference ---------------------\n",
      "{'sukkakura', 'cilantro', 'mint', 'spinach', 'iceburg', 'lettuce', 'kale', 'gongura', 'thotakura'}\n",
      "----------------- difference ---------------------\n",
      "----------------- intersection ---------------------\n",
      "{'red_onion'}\n",
      "----------------- intersection ---------------------\n"
     ]
    }
   ],
   "source": [
    "#set --->  UNORDERED and UNINDEXED and No DUPLICATES\n",
    "\n",
    "greens = {\"kale\",\"lettuce\",\"iceburg\",\"spinach\",\"sukkakura\",\"thotakura\",\"mint\",\"gongura\"}\n",
    "vegies = {\"mushrooms\", \"sweetpotatoes\", \"red_onion\"}\n",
    "print(len(greens))\n",
    "#print all from sets\n",
    "for x in greens:\n",
    "    print(x, end=\"\\t\")\n",
    "print()\n",
    "\n",
    "greens.add(\"cilantro\")\n",
    "print(greens)\n",
    "\n",
    "\n",
    "\n",
    "# print(\"----------------- update ---------------------\")\n",
    "# print(greens.update(vegies))\n",
    "# for x in greens:\n",
    "#     print(x, end=\"\\t\")\n",
    "# print()\n",
    "# print(\"----------------- update ---------------------\")\n",
    "\n",
    "# join sets\n",
    "greens.add(\"red_onion\")\n",
    "print(greens)\n",
    "\n",
    "food = greens.union(vegies)\n",
    "for x in food:\n",
    "    print(x, end=\"\\t\")\n",
    "print()\n",
    "\n",
    "print(\"----------------- difference ---------------------\")\n",
    "print(greens.difference(vegies))\n",
    "print(\"----------------- difference ---------------------\")\n",
    "\n",
    "\n",
    "print(\"----------------- intersection ---------------------\")\n",
    "print(greens.intersection(vegies))\n",
    "print(\"----------------- intersection ---------------------\")\n",
    "\n",
    "\n",
    "# greens.clear()\n",
    "# print(greens)"
   ]
  }
 ],
 "metadata": {
  "kernelspec": {
   "display_name": "base",
   "language": "python",
   "name": "python3"
  },
  "language_info": {
   "codemirror_mode": {
    "name": "ipython",
    "version": 3
   },
   "file_extension": ".py",
   "mimetype": "text/x-python",
   "name": "python",
   "nbconvert_exporter": "python",
   "pygments_lexer": "ipython3",
   "version": "3.11.7"
  }
 },
 "nbformat": 4,
 "nbformat_minor": 2
}
